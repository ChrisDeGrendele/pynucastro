{
 "cells": [
  {
   "cell_type": "code",
   "execution_count": 1,
   "metadata": {
    "collapsed": false
   },
   "outputs": [
    {
     "name": "stdout",
     "output_type": "stream",
     "text": [
      "Populating the interactive namespace from numpy and matplotlib\n"
     ]
    }
   ],
   "source": [
    "#%matplotlib nbagg   # networkx plotting doesn't seem to work with nbagg\n",
    "%pylab inline\n",
    "pylab.rcParams['figure.figsize'] = (10, 8)"
   ]
  },
  {
   "cell_type": "code",
   "execution_count": 2,
   "metadata": {
    "collapsed": false
   },
   "outputs": [],
   "source": [
    "import reaclib"
   ]
  },
  {
   "cell_type": "markdown",
   "metadata": {},
   "source": [
    "## Loading a single rate"
   ]
  },
  {
   "cell_type": "code",
   "execution_count": 3,
   "metadata": {
    "collapsed": true
   },
   "outputs": [],
   "source": [
    "r = reaclib.Rate(\"examples/CNO/c13-pg-n14-nacr\")"
   ]
  },
  {
   "cell_type": "markdown",
   "metadata": {},
   "source": [
    "### the original reaclib source"
   ]
  },
  {
   "cell_type": "code",
   "execution_count": 4,
   "metadata": {
    "collapsed": false
   },
   "outputs": [
    {
     "name": "stdout",
     "output_type": "stream",
     "text": [
      "4                                                                         \n",
      "                                                                          \n",
      "                                                                          \n",
      "         p  c13  n14                       nacrn     7.55100e+00          \n",
      " 1.851550e+01 0.000000e+00-1.372000e+01-4.500180e-01                      \n",
      " 3.708230e+00-1.705450e+00-6.666670e-01                                   \n",
      "         p  c13  n14                       nacrr     7.55100e+00          \n",
      " 1.396370e+01-5.781470e+00 0.000000e+00-1.967030e-01                      \n",
      " 1.421260e-01-2.389120e-02-1.500000e+00                                   \n",
      "         p  c13  n14                       nacrr     7.55100e+00          \n",
      " 1.518250e+01-1.355430e+01 0.000000e+00 0.000000e+00                      \n",
      " 0.000000e+00 0.000000e+00-1.500000e+00                                   \n",
      "\n"
     ]
    }
   ],
   "source": [
    "print r.original_source"
   ]
  },
  {
   "cell_type": "markdown",
   "metadata": {},
   "source": [
    "### evaluate the rate at a given temperature (in K)"
   ]
  },
  {
   "cell_type": "code",
   "execution_count": 5,
   "metadata": {
    "collapsed": false
   },
   "outputs": [
    {
     "data": {
      "text/plain": [
       "3883.4778216250666"
      ]
     },
     "execution_count": 5,
     "metadata": {},
     "output_type": "execute_result"
    }
   ],
   "source": [
    "r.eval(1.e9)"
   ]
  },
  {
   "cell_type": "markdown",
   "metadata": {},
   "source": [
    "### a human readable string describing the rate, and the nuclei involved"
   ]
  },
  {
   "cell_type": "code",
   "execution_count": 6,
   "metadata": {
    "collapsed": false
   },
   "outputs": [
    {
     "name": "stdout",
     "output_type": "stream",
     "text": [
      "p + c13 --> n14\n"
     ]
    }
   ],
   "source": [
    "print r"
   ]
  },
  {
   "cell_type": "code",
   "execution_count": 7,
   "metadata": {
    "collapsed": false
   },
   "outputs": [
    {
     "name": "stdout",
     "output_type": "stream",
     "text": [
      "[p, c13]\n",
      "[n14]\n"
     ]
    }
   ],
   "source": [
    "print r.reactants\n",
    "print r.products"
   ]
  },
  {
   "cell_type": "markdown",
   "metadata": {},
   "source": [
    "### get the temperature sensitivity about some reference T"
   ]
  },
  {
   "cell_type": "markdown",
   "metadata": {},
   "source": [
    "This is the exponent when we write the rate as $r = r_0 \\left ( \\frac{T}{T_0} \\right )^\\nu$"
   ]
  },
  {
   "cell_type": "code",
   "execution_count": 8,
   "metadata": {
    "collapsed": false
   },
   "outputs": [
    {
     "name": "stdout",
     "output_type": "stream",
     "text": [
      "16.2108967071\n"
     ]
    }
   ],
   "source": [
    "print r.get_rate_exponent(2.e7)"
   ]
  },
  {
   "cell_type": "markdown",
   "metadata": {},
   "source": [
    "### plot the rate's temperature dependence"
   ]
  },
  {
   "cell_type": "code",
   "execution_count": 9,
   "metadata": {
    "collapsed": false
   },
   "outputs": [
    {
     "data": {
      "image/png": "[encoded data removed]",
      "text/plain": [
       "<matplotlib.figure.Figure at 0x7f36ce6caf10>"
      ]
     },
     "metadata": {},
     "output_type": "display_data"
    }
   ],
   "source": [
    "r.plot()"
   ]
  },
  {
   "cell_type": "markdown",
   "metadata": {},
   "source": [
    "### the form of the rate with density and composition weighting -- this is what appears in a dY/dt equation"
   ]
  },
  {
   "cell_type": "code",
   "execution_count": 10,
   "metadata": {
    "collapsed": false
   },
   "outputs": [
    {
     "name": "stdout",
     "output_type": "stream",
     "text": [
      "rho*Y[ic13]*Y[ip]*lambda_c13_pg_n14\n"
     ]
    }
   ],
   "source": [
    "print r.ydot_string()"
   ]
  },
  {
   "cell_type": "markdown",
   "metadata": {},
   "source": [
    "### output a python function that can evaluate the rate (T-dependence part)"
   ]
  },
  {
   "cell_type": "code",
   "execution_count": 11,
   "metadata": {
    "collapsed": false
   },
   "outputs": [
    {
     "name": "stdout",
     "output_type": "stream",
     "text": [
      "def c13_pg_n14(tf):\n",
      "    # p + c13 --> n14\n",
      "    rate = 0.0\n",
      "    \n",
      "    # nacrn\n",
      "    rate += np.exp(  18.5155 + -13.72*tf.T913i + -0.450018*tf.T913\n",
      "                  + 3.70823*tf.T9 + -1.70545*tf.T953 + -0.666667*tf.lnT9)\n",
      "    # nacrr\n",
      "    rate += np.exp(  13.9637 + -5.78147*tf.T9i + -0.196703*tf.T913\n",
      "                  + 0.142126*tf.T9 + -0.0238912*tf.T953 + -1.5*tf.lnT9)\n",
      "    # nacrr\n",
      "    rate += np.exp(  15.1825 + -13.5543*tf.T9i\n",
      "                  + -1.5*tf.lnT9)\n",
      "    \n",
      "    return rate\n",
      "\n",
      "\n"
     ]
    }
   ],
   "source": [
    "print r.function_string()"
   ]
  },
  {
   "cell_type": "markdown",
   "metadata": {},
   "source": [
    "## working with a group of rates"
   ]
  },
  {
   "cell_type": "code",
   "execution_count": 12,
   "metadata": {
    "collapsed": true
   },
   "outputs": [],
   "source": [
    "rc = reaclib.RateCollection(\"examples/CNO/*-*\")"
   ]
  },
  {
   "cell_type": "markdown",
   "metadata": {},
   "source": [
    "### print an overview of the network described by this rate collection"
   ]
  },
  {
   "cell_type": "code",
   "execution_count": 13,
   "metadata": {
    "collapsed": false
   },
   "outputs": [
    {
     "name": "stdout",
     "output_type": "stream",
     "text": [
      "p + c13 --> n14\n",
      "p + c12 --> n13\n",
      "p + n15 --> he4 + c12\n",
      "n13 --> c13\n",
      "o14 --> n14\n",
      "o15 --> n15\n",
      "p + n14 --> o15\n",
      "p + n13 --> o14\n",
      "\n"
     ]
    }
   ],
   "source": [
    "print rc"
   ]
  },
  {
   "cell_type": "code",
   "execution_count": 14,
   "metadata": {
    "collapsed": false
   },
   "outputs": [
    {
     "name": "stdout",
     "output_type": "stream",
     "text": [
      "p\n",
      "  consumed by: \n",
      "     p + c13 --> n14 : rho*Y[ic13]*Y[ip]*lambda_c13_pg_n14\n",
      "     p + c12 --> n13 : rho*Y[ip]*Y[ic12]*lambda_c12_pg_n13\n",
      "     p + n15 --> he4 + c12 : rho*Y[ip]*Y[in15]*lambda_n15_pa_c12\n",
      "     p + n14 --> o15 : rho*Y[ip]*Y[in14]*lambda_n14_pg_o15\n",
      "     p + n13 --> o14 : rho*Y[ip]*Y[in13]*lambda_n13_pg_o14\n",
      "  produced by: \n",
      " \n",
      "he4\n",
      "  consumed by: \n",
      "  produced by: \n",
      "     p + n15 --> he4 + c12 : rho*Y[ip]*Y[in15]*lambda_n15_pa_c12\n",
      " \n",
      "c12\n",
      "  consumed by: \n",
      "     p + c12 --> n13 : rho*Y[ip]*Y[ic12]*lambda_c12_pg_n13\n",
      "  produced by: \n",
      "     p + n15 --> he4 + c12 : rho*Y[ip]*Y[in15]*lambda_n15_pa_c12\n",
      " \n",
      "c13\n",
      "  consumed by: \n",
      "     p + c13 --> n14 : rho*Y[ic13]*Y[ip]*lambda_c13_pg_n14\n",
      "  produced by: \n",
      "     n13 --> c13 : Y[in13]*lambda_n13_c13\n",
      " \n",
      "n13\n",
      "  consumed by: \n",
      "     n13 --> c13 : Y[in13]*lambda_n13_c13\n",
      "     p + n13 --> o14 : rho*Y[ip]*Y[in13]*lambda_n13_pg_o14\n",
      "  produced by: \n",
      "     p + c12 --> n13 : rho*Y[ip]*Y[ic12]*lambda_c12_pg_n13\n",
      " \n",
      "n14\n",
      "  consumed by: \n",
      "     p + n14 --> o15 : rho*Y[ip]*Y[in14]*lambda_n14_pg_o15\n",
      "  produced by: \n",
      "     p + c13 --> n14 : rho*Y[ic13]*Y[ip]*lambda_c13_pg_n14\n",
      "     o14 --> n14 : Y[io14]*lambda_o14_n14\n",
      " \n",
      "n15\n",
      "  consumed by: \n",
      "     p + n15 --> he4 + c12 : rho*Y[ip]*Y[in15]*lambda_n15_pa_c12\n",
      "  produced by: \n",
      "     o15 --> n15 : Y[io15]*lambda_o15_n15\n",
      " \n",
      "o14\n",
      "  consumed by: \n",
      "     o14 --> n14 : Y[io14]*lambda_o14_n14\n",
      "  produced by: \n",
      "     p + n13 --> o14 : rho*Y[ip]*Y[in13]*lambda_n13_pg_o14\n",
      " \n",
      "o15\n",
      "  consumed by: \n",
      "     o15 --> n15 : Y[io15]*lambda_o15_n15\n",
      "  produced by: \n",
      "     p + n14 --> o15 : rho*Y[ip]*Y[in14]*lambda_n14_pg_o15\n",
      " \n"
     ]
    }
   ],
   "source": [
    "rc.print_network_overview()"
   ]
  },
  {
   "cell_type": "markdown",
   "metadata": {},
   "source": [
    "### show a network diagram"
   ]
  },
  {
   "cell_type": "code",
   "execution_count": 15,
   "metadata": {
    "collapsed": false
   },
   "outputs": [
    {
     "data": {
      "image/png": "[encoded data removed]",
      "text/plain": [
       "<matplotlib.figure.Figure at 0x7f36ce3de950>"
      ]
     },
     "metadata": {},
     "output_type": "display_data"
    }
   ],
   "source": [
    "rc.plot()"
   ]
  },
  {
   "cell_type": "markdown",
   "metadata": {},
   "source": [
    "### "
   ]
  },
  {
   "cell_type": "markdown",
   "metadata": {},
   "source": [
    "### write a function containing the ODEs that evolve this network"
   ]
  },
  {
   "cell_type": "code",
   "execution_count": 16,
   "metadata": {
    "collapsed": true
   },
   "outputs": [],
   "source": [
    "rc.make_network(\"test.py\")"
   ]
  },
  {
   "cell_type": "code",
   "execution_count": 17,
   "metadata": {
    "collapsed": true
   },
   "outputs": [],
   "source": [
    "# %load test.py\n",
    "import numpy as np\n",
    "import reaclib\n",
    "\n",
    "ip = 0\n",
    "ihe4 = 1\n",
    "ic12 = 2\n",
    "ic13 = 3\n",
    "in13 = 4\n",
    "in14 = 5\n",
    "in15 = 6\n",
    "io14 = 7\n",
    "io15 = 8\n",
    "nnuc = 9\n",
    "\n",
    "A = np.zeros((nnuc), dtype=np.int32)\n",
    "\n",
    "A[ip] = 1\n",
    "A[ihe4] = 4\n",
    "A[ic12] = 12\n",
    "A[ic13] = 13\n",
    "A[in13] = 13\n",
    "A[in14] = 14\n",
    "A[in15] = 15\n",
    "A[io14] = 14\n",
    "A[io15] = 15\n",
    "\n",
    "def o15_n15(tf):\n",
    "    # o15 --> n15\n",
    "    rate = 0.0\n",
    "    \n",
    "    # wc12w\n",
    "    rate += np.exp(  -5.17053)\n",
    "    \n",
    "    return rate\n",
    "\n",
    "def n15_pa_c12(tf):\n",
    "    # p + n15 --> he4 + c12\n",
    "    rate = 0.0\n",
    "    \n",
    "    # nacrn\n",
    "    rate += np.exp(  27.4764 + -15.253*tf.T913i + 1.59318*tf.T913\n",
    "                  + 2.4479*tf.T9 + -2.19708*tf.T953 + -0.666667*tf.lnT9)\n",
    "    # nacrr\n",
    "    rate += np.exp(  -6.57522 + -1.1638*tf.T9i + 22.7105*tf.T913\n",
    "                  + -2.90707*tf.T9 + 0.205754*tf.T953 + -1.5*tf.lnT9)\n",
    "    # nacrr\n",
    "    rate += np.exp(  20.8972 + -7.406*tf.T9i\n",
    "                  + -1.5*tf.lnT9)\n",
    "    # nacrr\n",
    "    rate += np.exp(  -4.87347 + -2.02117*tf.T9i + 30.8497*tf.T913\n",
    "                  + -8.50433*tf.T9 + -1.54426*tf.T953 + -1.5*tf.lnT9)\n",
    "    \n",
    "    return rate\n",
    "\n",
    "def c13_pg_n14(tf):\n",
    "    # p + c13 --> n14\n",
    "    rate = 0.0\n",
    "    \n",
    "    # nacrn\n",
    "    rate += np.exp(  18.5155 + -13.72*tf.T913i + -0.450018*tf.T913\n",
    "                  + 3.70823*tf.T9 + -1.70545*tf.T953 + -0.666667*tf.lnT9)\n",
    "    # nacrr\n",
    "    rate += np.exp(  13.9637 + -5.78147*tf.T9i + -0.196703*tf.T913\n",
    "                  + 0.142126*tf.T9 + -0.0238912*tf.T953 + -1.5*tf.lnT9)\n",
    "    # nacrr\n",
    "    rate += np.exp(  15.1825 + -13.5543*tf.T9i\n",
    "                  + -1.5*tf.lnT9)\n",
    "    \n",
    "    return rate\n",
    "\n",
    "def c12_pg_n13(tf):\n",
    "    # p + c12 --> n13\n",
    "    rate = 0.0\n",
    "    \n",
    "    # ls09n\n",
    "    rate += np.exp(  17.1482 + -13.692*tf.T913i + -0.230881*tf.T913\n",
    "                  + 4.44362*tf.T9 + -3.15898*tf.T953 + -0.666667*tf.lnT9)\n",
    "    # ls09r\n",
    "    rate += np.exp(  17.5428 + -3.77849*tf.T9i + -5.10735*tf.T913i + -2.24111*tf.T913\n",
    "                  + 0.148883*tf.T9 + -1.5*tf.lnT9)\n",
    "    \n",
    "    return rate\n",
    "\n",
    "def n13_pg_o14(tf):\n",
    "    # p + n13 --> o14\n",
    "    rate = 0.0\n",
    "    \n",
    "    # lg06n\n",
    "    rate += np.exp(  18.1356 + -15.1676*tf.T913i + 0.0955166*tf.T913\n",
    "                  + 3.0659*tf.T9 + -0.507339*tf.T953 + -0.666667*tf.lnT9)\n",
    "    # lg06r\n",
    "    rate += np.exp(  10.9971 + -6.12602*tf.T9i + 1.57122*tf.T913i\n",
    "                  + -1.5*tf.lnT9)\n",
    "    \n",
    "    return rate\n",
    "\n",
    "def n14_pg_o15(tf):\n",
    "    # p + n14 --> o15\n",
    "    rate = 0.0\n",
    "    \n",
    "    # im05n\n",
    "    rate += np.exp(  17.01 + -15.193*tf.T913i + -0.161954*tf.T913\n",
    "                  + -7.52123*tf.T9 + -0.987565*tf.T953 + -0.666667*tf.lnT9)\n",
    "    # im05r\n",
    "    rate += np.exp(  6.73578 + -4.891*tf.T9i\n",
    "                  + 0.0682*tf.lnT9)\n",
    "    # im05r\n",
    "    rate += np.exp(  7.65444 + -2.998*tf.T9i\n",
    "                  + -1.5*tf.lnT9)\n",
    "    # im05n\n",
    "    rate += np.exp(  20.1169 + -15.193*tf.T913i + -4.63975*tf.T913\n",
    "                  + 9.73458*tf.T9 + -9.55051*tf.T953 + 0.333333*tf.lnT9)\n",
    "    \n",
    "    return rate\n",
    "\n",
    "def o14_n14(tf):\n",
    "    # o14 --> n14\n",
    "    rate = 0.0\n",
    "    \n",
    "    # wc12w\n",
    "    rate += np.exp(  -4.62354)\n",
    "    \n",
    "    return rate\n",
    "\n",
    "def n13_c13(tf):\n",
    "    # n13 --> c13\n",
    "    rate = 0.0\n",
    "    \n",
    "    # wc12w\n",
    "    rate += np.exp(  -6.7601)\n",
    "    \n",
    "    return rate\n",
    "\n",
    "def rhs(t, Y, rho, T):\n",
    "\n",
    "    tf = reaclib.Tfactors(T)\n",
    "\n",
    "    lambda_o15_n15 = o15_n15(tf)\n",
    "    lambda_n15_pa_c12 = n15_pa_c12(tf)\n",
    "    lambda_c13_pg_n14 = c13_pg_n14(tf)\n",
    "    lambda_c12_pg_n13 = c12_pg_n13(tf)\n",
    "    lambda_n13_pg_o14 = n13_pg_o14(tf)\n",
    "    lambda_n14_pg_o15 = n14_pg_o15(tf)\n",
    "    lambda_o14_n14 = o14_n14(tf)\n",
    "    lambda_n13_c13 = n13_c13(tf)\n",
    "\n",
    "    dYdt = np.zeros((nnuc), dtype=np.float64)\n",
    "\n",
    "    dYdt[ip] = (\n",
    "       -rho*Y[ip]*Y[in15]*lambda_n15_pa_c12\n",
    "       -rho*Y[ic13]*Y[ip]*lambda_c13_pg_n14\n",
    "       -rho*Y[ip]*Y[ic12]*lambda_c12_pg_n13\n",
    "       -rho*Y[ip]*Y[in13]*lambda_n13_pg_o14\n",
    "       -rho*Y[ip]*Y[in14]*lambda_n14_pg_o15\n",
    "       )\n",
    "\n",
    "    dYdt[ihe4] = (\n",
    "       +rho*Y[ip]*Y[in15]*lambda_n15_pa_c12\n",
    "       )\n",
    "\n",
    "    dYdt[ic12] = (\n",
    "       -rho*Y[ip]*Y[ic12]*lambda_c12_pg_n13\n",
    "       +rho*Y[ip]*Y[in15]*lambda_n15_pa_c12\n",
    "       )\n",
    "\n",
    "    dYdt[ic13] = (\n",
    "       -rho*Y[ic13]*Y[ip]*lambda_c13_pg_n14\n",
    "       +Y[in13]*lambda_n13_c13\n",
    "       )\n",
    "\n",
    "    dYdt[in13] = (\n",
    "       -rho*Y[ip]*Y[in13]*lambda_n13_pg_o14\n",
    "       -Y[in13]*lambda_n13_c13\n",
    "       +rho*Y[ip]*Y[ic12]*lambda_c12_pg_n13\n",
    "       )\n",
    "\n",
    "    dYdt[in14] = (\n",
    "       -rho*Y[ip]*Y[in14]*lambda_n14_pg_o15\n",
    "       +rho*Y[ic13]*Y[ip]*lambda_c13_pg_n14\n",
    "       +Y[io14]*lambda_o14_n14\n",
    "       )\n",
    "\n",
    "    dYdt[in15] = (\n",
    "       -rho*Y[ip]*Y[in15]*lambda_n15_pa_c12\n",
    "       +Y[io15]*lambda_o15_n15\n",
    "       )\n",
    "\n",
    "    dYdt[io14] = (\n",
    "       -Y[io14]*lambda_o14_n14\n",
    "       +rho*Y[ip]*Y[in13]*lambda_n13_pg_o14\n",
    "       )\n",
    "\n",
    "    dYdt[io15] = (\n",
    "       -Y[io15]*lambda_o15_n15\n",
    "       +rho*Y[ip]*Y[in14]*lambda_n14_pg_o15\n",
    "       )\n",
    "\n",
    "    return dYdt\n"
   ]
  },
  {
   "cell_type": "code",
   "execution_count": null,
   "metadata": {
    "collapsed": true
   },
   "outputs": [],
   "source": []
  },
  {
   "cell_type": "code",
   "execution_count": null,
   "metadata": {
    "collapsed": true
   },
   "outputs": [],
   "source": []
  }
 ],
 "metadata": {
  "kernelspec": {
   "display_name": "Python 2",
   "language": "python",
   "name": "python2"
  },
  "language_info": {
   "codemirror_mode": {
    "name": "ipython",
    "version": 2
   },
   "file_extension": ".py",
   "mimetype": "text/x-python",
   "name": "python",
   "nbconvert_exporter": "python",
   "pygments_lexer": "ipython2",
   "version": "2.7.10"
  }
 },
 "nbformat": 4,
 "nbformat_minor": 0
}
