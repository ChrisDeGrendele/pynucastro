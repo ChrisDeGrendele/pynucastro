{
 "cells": [
  {
   "cell_type": "code",
   "execution_count": 1,
   "metadata": {
    "collapsed": true
   },
   "outputs": [],
   "source": [
    "%matplotlib inline\n",
    "import matplotlib\n",
    "matplotlib.rcParams['figure.dpi'] = 100"
   ]
  },
  {
   "cell_type": "code",
   "execution_count": 2,
   "metadata": {
    "collapsed": true
   },
   "outputs": [],
   "source": [
    "import pyreaclib\n",
    "from pyreaclib.networks import RateCollection, PythonNetwork, Composition"
   ]
  },
  {
   "cell_type": "code",
   "execution_count": 3,
   "metadata": {
    "collapsed": true
   },
   "outputs": [],
   "source": [
    "files = [\"c12-pg-n13-ls09\", \n",
    "         \"c13-pg-n14-nacr\",\n",
    "         \"n13--c13-wc12\",\n",
    "         \"n13-pg-o14-lg06\",\n",
    "         \"n14-pg-o15-im05\",\n",
    "         \"n15-pa-c12-nacr\",\n",
    "         \"o14--n14-wc12\",\n",
    "         \"o15--n15-wc12\"]\n",
    "rc = RateCollection(files)"
   ]
  },
  {
   "cell_type": "code",
   "execution_count": 4,
   "metadata": {
    "collapsed": true
   },
   "outputs": [],
   "source": [
    "comp = Composition(rc.get_nuclei())\n",
    "\n",
    "comp.set_all(0.005)\n",
    "comp.set_nuc(\"p\", 0.7)\n",
    "comp.set_nuc(\"he4\", 0.28)\n",
    "comp.normalize()"
   ]
  },
  {
   "cell_type": "code",
   "execution_count": 5,
   "metadata": {
    "collapsed": true
   },
   "outputs": [],
   "source": [
    "def make_plot(logrho, logT):\n",
    "    rc.plot(rho=10.0**logrho, T=10.0**logT, comp=comp)"
   ]
  },
  {
   "cell_type": "code",
   "execution_count": 6,
   "metadata": {
    "collapsed": false
   },
   "outputs": [],
   "source": [
    "#from IPython.html.widgets import *\n",
    "#interact(make_plot, logrho=(2, 6, 0.1), logT = (7, 9, 0.1))"
   ]
  },
  {
   "cell_type": "code",
   "execution_count": 7,
   "metadata": {
    "collapsed": false
   },
   "outputs": [
    {
     "name": "stdout",
     "output_type": "stream",
     "text": [
      "n13 --> c13: 4.3922442469994434e-07\n",
      "o15 --> n15: 1.8658643008216968e-06\n",
      "n13 + p --> o14: 1.6482969563596367e-07\n",
      "c13 + p --> n14: 4.3974416196478226e-06\n",
      "n14 + p --> o15: 3.334026654401733e-08\n",
      "o14 --> n14: 3.4546019795906306e-06\n",
      "c12 + p --> n13: 1.488885484398364e-06\n",
      "n15 + p --> he4 + c12: 0.0029732818840719996\n"
     ]
    },
    {
     "data": {
      "image/png": "[encoded data removed]",
      "text/plain": [
       "<matplotlib.figure.Figure at 0x7f81fc804400>"
      ]
     },
     "metadata": {},
     "output_type": "display_data"
    }
   ],
   "source": [
    "import math\n",
    "make_plot(logrho=math.log10(200), logT=math.log10(1.e8))"
   ]
  },
  {
   "cell_type": "code",
   "execution_count": null,
   "metadata": {
    "collapsed": true
   },
   "outputs": [],
   "source": []
  }
 ],
 "metadata": {
  "kernelspec": {
   "display_name": "Python 3",
   "language": "python",
   "name": "python3"
  },
  "language_info": {
   "codemirror_mode": {
    "name": "ipython",
    "version": 3
   },
   "file_extension": ".py",
   "mimetype": "text/x-python",
   "name": "python",
   "nbconvert_exporter": "python",
   "pygments_lexer": "ipython3",
   "version": "3.5.2"
  },
  "widgets": {
   "application/vnd.jupyter.widget-state+json": {
    "state": {
     "0208e7515da940b7891e6a7fb0e3fcff": {
      "model_module": "jupyter-js-widgets",
      "model_module_version": "*",
      "model_name": "VBoxModel",
      "state": {
       "_dom_classes": [
        "widget-interact"
       ],
       "children": [
        "IPY_MODEL_4d0cb7928c67420c85b1fe86c8c15fc9",
        "IPY_MODEL_3511eb46732745fda27dc82b67cac0b8",
        "IPY_MODEL_badfa2405226480993d6685471f31836"
       ],
       "layout": "IPY_MODEL_9fabcf2f8e7f4329afb728f2e1e81c16"
      }
     },
     "027a7e0f7e6f4f4cbcfad737d3efef74": {
      "model_module": "jupyter-js-widgets",
      "model_module_version": "*",
      "model_name": "LayoutModel",
      "state": {}
     },
     "1af7a781f7e84a1693e2c0b6a4eb8a72": {
      "model_module": "jupyter-js-widgets",
      "model_module_version": "*",
      "model_name": "LayoutModel",
      "state": {}
     },
     "22deb75e13094ec28c87f9c0ddcd9d72": {
      "model_module": "jupyter-js-widgets",
      "model_module_version": "*",
      "model_name": "FloatSliderModel",
      "state": {
       "description": "logT",
       "layout": "IPY_MODEL_5668b237990743a3a094038b247052ce",
       "max": 8.5,
       "min": 7,
       "step": 0.1,
       "value": 7.7
      }
     },
     "3511eb46732745fda27dc82b67cac0b8": {
      "model_module": "jupyter-js-widgets",
      "model_module_version": "*",
      "model_name": "FloatSliderModel",
      "state": {
       "description": "logT",
       "layout": "IPY_MODEL_91dcff140c1e4dec8fb4dba2a2ef3041",
       "max": 8.5,
       "min": 7,
       "step": 0.1,
       "value": 7
      }
     },
     "362028c924254107939660933fc73bda": {
      "model_module": "jupyter-js-widgets",
      "model_module_version": "*",
      "model_name": "FloatSliderModel",
      "state": {
       "description": "logrho",
       "layout": "IPY_MODEL_d1ea1ccdcf974b18b9240b2bb4c67a7f",
       "max": 4,
       "min": 2,
       "step": 0.1,
       "value": 3.3
      }
     },
     "404fbcc5d3e04366a91ad3c89771fe27": {
      "model_module": "jupyter-js-widgets",
      "model_module_version": "*",
      "model_name": "VBoxModel",
      "state": {
       "_dom_classes": [
        "widget-interact"
       ],
       "children": [
        "IPY_MODEL_362028c924254107939660933fc73bda",
        "IPY_MODEL_22deb75e13094ec28c87f9c0ddcd9d72",
        "IPY_MODEL_b0c71db6eb654bb98fc509e8811705f6"
       ],
       "layout": "IPY_MODEL_1af7a781f7e84a1693e2c0b6a4eb8a72"
      }
     },
     "467a7b3b0dcb49bcb932ed23b64b14c6": {
      "model_module": "jupyter-js-widgets",
      "model_module_version": "*",
      "model_name": "LayoutModel",
      "state": {}
     },
     "476ab5efcd25488093e1baf3f6aa771c": {
      "model_module": "jupyter-js-widgets",
      "model_module_version": "*",
      "model_name": "FloatSliderModel",
      "state": {
       "description": "logT",
       "layout": "IPY_MODEL_c1d2552cfe2042fcb97722d6e66fcce6",
       "max": 8.5,
       "min": 7,
       "step": 0.1,
       "value": 7
      }
     },
     "481a9ff5ddc2465da8c2c34e089c0ea5": {
      "model_module": "jupyter-js-widgets",
      "model_module_version": "*",
      "model_name": "LayoutModel",
      "state": {}
     },
     "4d0cb7928c67420c85b1fe86c8c15fc9": {
      "model_module": "jupyter-js-widgets",
      "model_module_version": "*",
      "model_name": "FloatSliderModel",
      "state": {
       "description": "logrho",
       "layout": "IPY_MODEL_d32cd40fcfa241d88117b75a690425ae",
       "max": 4,
       "min": 2,
       "step": 0.1,
       "value": 2
      }
     },
     "5668b237990743a3a094038b247052ce": {
      "model_module": "jupyter-js-widgets",
      "model_module_version": "*",
      "model_name": "LayoutModel",
      "state": {}
     },
     "866b78722e974cc2bd68d1f35903f9f0": {
      "model_module": "jupyter-js-widgets",
      "model_module_version": "*",
      "model_name": "OutputModel",
      "state": {
       "_dom_classes": [],
       "_model_module": "jupyter-js-widgets",
       "_model_module_version": "*",
       "_view_module": "jupyter-js-widgets",
       "_view_module_version": "*",
       "layout": "IPY_MODEL_027a7e0f7e6f4f4cbcfad737d3efef74",
       "msg_throttle": 1
      }
     },
     "91dcff140c1e4dec8fb4dba2a2ef3041": {
      "model_module": "jupyter-js-widgets",
      "model_module_version": "*",
      "model_name": "LayoutModel",
      "state": {}
     },
     "9fabcf2f8e7f4329afb728f2e1e81c16": {
      "model_module": "jupyter-js-widgets",
      "model_module_version": "*",
      "model_name": "LayoutModel",
      "state": {}
     },
     "b0c71db6eb654bb98fc509e8811705f6": {
      "model_module": "jupyter-js-widgets",
      "model_module_version": "*",
      "model_name": "OutputModel",
      "state": {
       "_dom_classes": [],
       "_model_module": "jupyter-js-widgets",
       "_model_module_version": "*",
       "_view_module": "jupyter-js-widgets",
       "_view_module_version": "*",
       "layout": "IPY_MODEL_fd190028d1b44239887f3b51f1d5090c",
       "msg_throttle": 1
      }
     },
     "b94cfb6337b64e238a2db0fd8ef3fd60": {
      "model_module": "jupyter-js-widgets",
      "model_module_version": "*",
      "model_name": "FloatSliderModel",
      "state": {
       "description": "logrho",
       "layout": "IPY_MODEL_da2936a5f9b34983946738132a3a7732",
       "max": 4,
       "min": 2,
       "step": 0.1,
       "value": 4
      }
     },
     "badfa2405226480993d6685471f31836": {
      "model_module": "jupyter-js-widgets",
      "model_module_version": "*",
      "model_name": "OutputModel",
      "state": {
       "_dom_classes": [],
       "_model_module": "jupyter-js-widgets",
       "_model_module_version": "*",
       "_view_module": "jupyter-js-widgets",
       "_view_module_version": "*",
       "layout": "IPY_MODEL_481a9ff5ddc2465da8c2c34e089c0ea5",
       "msg_throttle": 1
      }
     },
     "c0d7d663b2ca455b9bd8b897c76c046f": {
      "model_module": "jupyter-js-widgets",
      "model_module_version": "*",
      "model_name": "LayoutModel",
      "state": {}
     },
     "c1d2552cfe2042fcb97722d6e66fcce6": {
      "model_module": "jupyter-js-widgets",
      "model_module_version": "*",
      "model_name": "LayoutModel",
      "state": {}
     },
     "d1ea1ccdcf974b18b9240b2bb4c67a7f": {
      "model_module": "jupyter-js-widgets",
      "model_module_version": "*",
      "model_name": "LayoutModel",
      "state": {}
     },
     "d32cd40fcfa241d88117b75a690425ae": {
      "model_module": "jupyter-js-widgets",
      "model_module_version": "*",
      "model_name": "LayoutModel",
      "state": {}
     },
     "da2936a5f9b34983946738132a3a7732": {
      "model_module": "jupyter-js-widgets",
      "model_module_version": "*",
      "model_name": "LayoutModel",
      "state": {}
     },
     "e7399efbf76346e58f2e7bf088f9f982": {
      "model_module": "jupyter-js-widgets",
      "model_module_version": "*",
      "model_name": "VBoxModel",
      "state": {
       "_dom_classes": [
        "widget-interact"
       ],
       "children": [
        "IPY_MODEL_b94cfb6337b64e238a2db0fd8ef3fd60",
        "IPY_MODEL_476ab5efcd25488093e1baf3f6aa771c",
        "IPY_MODEL_866b78722e974cc2bd68d1f35903f9f0"
       ],
       "layout": "IPY_MODEL_467a7b3b0dcb49bcb932ed23b64b14c6"
      }
     },
     "ed280061ae9b4a9986ae64f89d7a226b": {
      "model_module": "jupyter-js-widgets",
      "model_module_version": "*",
      "model_name": "VBoxModel",
      "state": {
       "_dom_classes": [
        "widget-interact"
       ],
       "layout": "IPY_MODEL_c0d7d663b2ca455b9bd8b897c76c046f"
      }
     },
     "fd190028d1b44239887f3b51f1d5090c": {
      "model_module": "jupyter-js-widgets",
      "model_module_version": "*",
      "model_name": "LayoutModel",
      "state": {}
     }
    },
    "version_major": 1,
    "version_minor": 0
   }
  }
 },
 "nbformat": 4,
 "nbformat_minor": 2
}
