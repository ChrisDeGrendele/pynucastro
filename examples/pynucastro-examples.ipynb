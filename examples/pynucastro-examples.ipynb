{
 "cells": [
  {
   "cell_type": "markdown",
   "metadata": {},
   "source": [
    "# `pynucastro` usage examples\n",
    "\n",
    "This notebook illustrates some of the higher-level data structures in `pynucastro`.\n",
    "\n",
    "Note to run properly, you must have `pynucastro/` in your `PYTHONPATH`"
   ]
  },
  {
   "cell_type": "code",
   "execution_count": 1,
   "metadata": {
    "collapsed": true
   },
   "outputs": [],
   "source": [
    "%matplotlib inline"
   ]
  },
  {
   "cell_type": "code",
   "execution_count": 2,
   "metadata": {
    "collapsed": true
   },
   "outputs": [],
   "source": [
    "import pynucastro as pyrl"
   ]
  },
  {
   "cell_type": "markdown",
   "metadata": {},
   "source": [
    "## Loading a single rate\n",
    "\n",
    "The `Rate` class holds a single reaction rate and takes a reaclib file as input.  There are a lot of methods in the `Rate` class that allow you to explore the rate."
   ]
  },
  {
   "cell_type": "code",
   "execution_count": 3,
   "metadata": {
    "collapsed": true
   },
   "outputs": [],
   "source": [
    "c13pg = pyrl.Rate(\"../pynucastro/library/c13-pg-n14-nacr\")"
   ]
  },
  {
   "cell_type": "markdown",
   "metadata": {},
   "source": [
    "### the original reaclib source"
   ]
  },
  {
   "cell_type": "code",
   "execution_count": 4,
   "metadata": {},
   "outputs": [
    {
     "name": "stdout",
     "output_type": "stream",
     "text": [
      "4                                                                         \n",
      "                                                                          \n",
      "                                                                          \n",
      "         p  c13  n14                       nacrn     7.55100e+00          \n",
      " 1.851550e+01 0.000000e+00-1.372000e+01-4.500180e-01                      \n",
      " 3.708230e+00-1.705450e+00-6.666670e-01                                   \n",
      "         p  c13  n14                       nacrr     7.55100e+00          \n",
      " 1.396370e+01-5.781470e+00 0.000000e+00-1.967030e-01                      \n",
      " 1.421260e-01-2.389120e-02-1.500000e+00                                   \n",
      "         p  c13  n14                       nacrr     7.55100e+00          \n",
      " 1.518250e+01-1.355430e+01 0.000000e+00 0.000000e+00                      \n",
      " 0.000000e+00 0.000000e+00-1.500000e+00                                   \n",
      "\n"
     ]
    }
   ],
   "source": [
    "print(c13pg.original_source)"
   ]
  },
  {
   "cell_type": "markdown",
   "metadata": {},
   "source": [
    "### evaluate the rate at a given temperature (in K)"
   ]
  },
  {
   "cell_type": "code",
   "execution_count": 5,
   "metadata": {},
   "outputs": [
    {
     "data": {
      "text/plain": [
       "3883.4778216250666"
      ]
     },
     "execution_count": 5,
     "metadata": {},
     "output_type": "execute_result"
    }
   ],
   "source": [
    "c13pg.eval(1.e9)"
   ]
  },
  {
   "cell_type": "markdown",
   "metadata": {},
   "source": [
    "### a human readable string describing the rate, and the nuclei involved"
   ]
  },
  {
   "cell_type": "code",
   "execution_count": 6,
   "metadata": {},
   "outputs": [
    {
     "name": "stdout",
     "output_type": "stream",
     "text": [
      "c13 + p --> n14\n"
     ]
    }
   ],
   "source": [
    "print(c13pg)"
   ]
  },
  {
   "cell_type": "markdown",
   "metadata": {},
   "source": [
    "The nuclei involved are all `Nucleus` objects.  They have members `Z` and `N` that give the proton and neutron number"
   ]
  },
  {
   "cell_type": "code",
   "execution_count": 7,
   "metadata": {},
   "outputs": [
    {
     "name": "stdout",
     "output_type": "stream",
     "text": [
      "[p, c13]\n",
      "[n14]\n"
     ]
    }
   ],
   "source": [
    "print(c13pg.reactants)\n",
    "print(c13pg.products)"
   ]
  },
  {
   "cell_type": "code",
   "execution_count": 8,
   "metadata": {
    "collapsed": true
   },
   "outputs": [],
   "source": [
    "r2 = c13pg.reactants[1]"
   ]
  },
  {
   "cell_type": "code",
   "execution_count": 9,
   "metadata": {},
   "outputs": [
    {
     "data": {
      "text/plain": [
       "pynucastro.rates.rate.Nucleus"
      ]
     },
     "execution_count": 9,
     "metadata": {},
     "output_type": "execute_result"
    }
   ],
   "source": [
    "type(r2)"
   ]
  },
  {
   "cell_type": "code",
   "execution_count": 10,
   "metadata": {},
   "outputs": [
    {
     "name": "stdout",
     "output_type": "stream",
     "text": [
      "6 7\n"
     ]
    }
   ],
   "source": [
    "print(r2.Z, r2.N)"
   ]
  },
  {
   "cell_type": "markdown",
   "metadata": {},
   "source": [
    "### get the temperature sensitivity about some reference T"
   ]
  },
  {
   "cell_type": "markdown",
   "metadata": {},
   "source": [
    "This is the exponent when we write the rate as $r = r_0 \\left ( \\frac{T}{T_0} \\right )^\\nu$.  We can estimate this given a reference temperature, $T_0$"
   ]
  },
  {
   "cell_type": "code",
   "execution_count": 11,
   "metadata": {},
   "outputs": [
    {
     "data": {
      "text/plain": [
       "16.210896707109679"
      ]
     },
     "execution_count": 11,
     "metadata": {},
     "output_type": "execute_result"
    }
   ],
   "source": [
    "c13pg.get_rate_exponent(2.e7)"
   ]
  },
  {
   "cell_type": "markdown",
   "metadata": {},
   "source": [
    "### plot the rate's temperature dependence\n",
    "\n",
    "A reaction rate has a complex temperature dependence that is defined in the reaclib files.  The `plot()` method will plot this for us"
   ]
  },
  {
   "cell_type": "code",
   "execution_count": 12,
   "metadata": {},
   "outputs": [
    {
     "data": {
      "image/png": "[encoded data removed]",
      "text/plain": [
       "<matplotlib.figure.Figure at 0x7f60b45a2b70>"
      ]
     },
     "metadata": {},
     "output_type": "display_data"
    }
   ],
   "source": [
    "#PYTEST_VALIDATE_IGNORE_OUTPUT\n",
    "c13pg.plot()"
   ]
  },
  {
   "cell_type": "markdown",
   "metadata": {},
   "source": [
    "A rate also knows its density dependence -- this is inferred from the reactants in the rate description and is used to construct the terms needed to write a reaction network.  Note: since we want reaction rates per gram, this number is 1 less than the number of nuclei"
   ]
  },
  {
   "cell_type": "code",
   "execution_count": 13,
   "metadata": {},
   "outputs": [
    {
     "data": {
      "text/plain": [
       "1"
      ]
     },
     "execution_count": 13,
     "metadata": {},
     "output_type": "execute_result"
    }
   ],
   "source": [
    "c13pg.dens_exp"
   ]
  },
  {
   "cell_type": "markdown",
   "metadata": {},
   "source": [
    "## Working with a group of rates\n",
    "\n",
    "A `RateCollection()` class allows us to work with a group of rates.  This is used to explore their relationship.  Other classes (introduced soon) are built on this and will allow us to output network code directly."
   ]
  },
  {
   "cell_type": "code",
   "execution_count": 14,
   "metadata": {
    "collapsed": true
   },
   "outputs": [],
   "source": [
    "files = [\"c12-pg-n13-ls09\", \n",
    "         \"c13-pg-n14-nacr\",\n",
    "         \"n13--c13-wc12\",\n",
    "         \"n13-pg-o14-lg06\",\n",
    "         \"n14-pg-o15-im05\",\n",
    "         \"n15-pa-c12-nacr\",\n",
    "         \"o14--n14-wc12\",\n",
    "         \"o15--n15-wc12\"]\n",
    "rc = pyrl.RateCollection(files)"
   ]
  },
  {
   "cell_type": "markdown",
   "metadata": {},
   "source": [
    "### print an overview of the network described by this rate collection"
   ]
  },
  {
   "cell_type": "code",
   "execution_count": 15,
   "metadata": {},
   "outputs": [
    {
     "name": "stdout",
     "output_type": "stream",
     "text": [
      "c12 + p --> n13\n",
      "c13 + p --> n14\n",
      "n13 --> c13\n",
      "n13 + p --> o14\n",
      "n14 + p --> o15\n",
      "n15 + p --> he4 + c12\n",
      "o14 --> n14\n",
      "o15 --> n15\n",
      "\n"
     ]
    }
   ],
   "source": [
    "print(rc)"
   ]
  },
  {
   "cell_type": "code",
   "execution_count": 16,
   "metadata": {},
   "outputs": [
    {
     "name": "stdout",
     "output_type": "stream",
     "text": [
      "p\n",
      "  consumed by:\n",
      "     c12 + p --> n13\n",
      "     c13 + p --> n14\n",
      "     n13 + p --> o14\n",
      "     n14 + p --> o15\n",
      "     n15 + p --> he4 + c12\n",
      "  produced by:\n",
      "\n",
      "he4\n",
      "  consumed by:\n",
      "  produced by:\n",
      "     n15 + p --> he4 + c12\n",
      "\n",
      "c12\n",
      "  consumed by:\n",
      "     c12 + p --> n13\n",
      "  produced by:\n",
      "     n15 + p --> he4 + c12\n",
      "\n",
      "c13\n",
      "  consumed by:\n",
      "     c13 + p --> n14\n",
      "  produced by:\n",
      "     n13 --> c13\n",
      "\n",
      "n13\n",
      "  consumed by:\n",
      "     n13 --> c13\n",
      "     n13 + p --> o14\n",
      "  produced by:\n",
      "     c12 + p --> n13\n",
      "\n",
      "n14\n",
      "  consumed by:\n",
      "     n14 + p --> o15\n",
      "  produced by:\n",
      "     c13 + p --> n14\n",
      "     o14 --> n14\n",
      "\n",
      "n15\n",
      "  consumed by:\n",
      "     n15 + p --> he4 + c12\n",
      "  produced by:\n",
      "     o15 --> n15\n",
      "\n",
      "o14\n",
      "  consumed by:\n",
      "     o14 --> n14\n",
      "  produced by:\n",
      "     n13 + p --> o14\n",
      "\n",
      "o15\n",
      "  consumed by:\n",
      "     o15 --> n15\n",
      "  produced by:\n",
      "     n14 + p --> o15\n",
      "\n",
      "\n"
     ]
    }
   ],
   "source": [
    "print(rc.network_overview())"
   ]
  },
  {
   "cell_type": "markdown",
   "metadata": {},
   "source": [
    "### show a network diagram\n",
    "\n",
    "At the moment, we rely on NetworkX to visualize the network"
   ]
  },
  {
   "cell_type": "code",
   "execution_count": 17,
   "metadata": {},
   "outputs": [
    {
     "data": {
      "image/png": "[encoded data removed]",
      "text/plain": [
       "<matplotlib.figure.Figure at 0x7f6081cc9128>"
      ]
     },
     "metadata": {},
     "output_type": "display_data"
    }
   ],
   "source": [
    "#PYTEST_VALIDATE_IGNORE_OUTPUT\n",
    "rc.plot()"
   ]
  },
  {
   "cell_type": "markdown",
   "metadata": {},
   "source": [
    "## Explore the network's rates"
   ]
  },
  {
   "cell_type": "markdown",
   "metadata": {},
   "source": [
    "To evaluate the rates, we need a composition"
   ]
  },
  {
   "cell_type": "code",
   "execution_count": 18,
   "metadata": {
    "collapsed": true
   },
   "outputs": [],
   "source": [
    "comp = pyrl.Composition(rc.get_nuclei())\n",
    "comp.set_solar_like()"
   ]
  },
  {
   "cell_type": "markdown",
   "metadata": {},
   "source": [
    "Interactive exploration is enabled through the `Explorer` class, which takes a `RateCollection` and a `Composition`"
   ]
  },
  {
   "cell_type": "code",
   "execution_count": 19,
   "metadata": {},
   "outputs": [
    {
     "data": {
      "application/vnd.jupyter.widget-view+json": {
       "model_id": "a7c85864029045c2835fa98717c3ad21",
       "version_major": 2,
       "version_minor": 0
      },
      "text/plain": [
       "A Jupyter Widget"
      ]
     },
     "metadata": {},
     "output_type": "display_data"
    }
   ],
   "source": [
    "#PYTEST_VALIDATE_IGNORE_OUTPUT\n",
    "re = pyrl.Explorer(rc, comp)\n",
    "re.explore()"
   ]
  },
  {
   "cell_type": "markdown",
   "metadata": {},
   "source": [
    "## Integrating networks\n",
    "\n",
    "If we don't just want to explore the network interactively in a notebook, but want to output code to run integrate it, we need to create one of `PythonNetwork`, `StarKillerNetwork` or `SundialsNetwork`"
   ]
  },
  {
   "cell_type": "code",
   "execution_count": 20,
   "metadata": {
    "collapsed": true
   },
   "outputs": [],
   "source": [
    "pynet = pyrl.PythonNetwork(files)"
   ]
  },
  {
   "cell_type": "markdown",
   "metadata": {},
   "source": [
    "A network knows how to express the terms that make up the function (in the right programming language).  For instance, you can get the term for the ${}^{13}\\mathrm{C} (p,\\gamma) {}^{14}\\mathrm{N}$ rate as:"
   ]
  },
  {
   "cell_type": "code",
   "execution_count": 21,
   "metadata": {},
   "outputs": [
    {
     "name": "stdout",
     "output_type": "stream",
     "text": [
      "rho*Y[ip]*Y[ic13]*lambda_p_c13__n14\n"
     ]
    }
   ],
   "source": [
    "print(pynet.ydot_string(c13pg))"
   ]
  },
  {
   "cell_type": "markdown",
   "metadata": {},
   "source": [
    "and the code needed to evaluate that rate (the T-dependent part) as:"
   ]
  },
  {
   "cell_type": "code",
   "execution_count": 22,
   "metadata": {},
   "outputs": [
    {
     "name": "stdout",
     "output_type": "stream",
     "text": [
      "def p_c13__n14(tf):\n",
      "    # c13 + p --> n14\n",
      "    rate = 0.0\n",
      "    \n",
      "    # nacrn\n",
      "    rate += np.exp(  18.5155 + -13.72*tf.T913i + -0.450018*tf.T913\n",
      "                  + 3.70823*tf.T9 + -1.70545*tf.T953 + -0.666667*tf.lnT9)\n",
      "    # nacrr\n",
      "    rate += np.exp(  13.9637 + -5.78147*tf.T9i + -0.196703*tf.T913\n",
      "                  + 0.142126*tf.T9 + -0.0238912*tf.T953 + -1.5*tf.lnT9)\n",
      "    # nacrr\n",
      "    rate += np.exp(  15.1825 + -13.5543*tf.T9i\n",
      "                  + -1.5*tf.lnT9)\n",
      "    \n",
      "    return rate\n",
      "\n",
      "\n"
     ]
    }
   ],
   "source": [
    "print(pynet.function_string(c13pg))"
   ]
  },
  {
   "cell_type": "markdown",
   "metadata": {},
   "source": [
    "The `write_network()` method will output the python code needed to define the RHS of a network for integration with the SciPy integrators"
   ]
  },
  {
   "cell_type": "code",
   "execution_count": 23,
   "metadata": {},
   "outputs": [
    {
     "name": "stdout",
     "output_type": "stream",
     "text": [
      "import numpy as np\n",
      "from pynucastro.rates import Tfactors\n",
      "\n",
      "ip = 0\n",
      "ihe4 = 1\n",
      "ic12 = 2\n",
      "ic13 = 3\n",
      "in13 = 4\n",
      "in14 = 5\n",
      "in15 = 6\n",
      "io14 = 7\n",
      "io15 = 8\n",
      "nnuc = 9\n",
      "\n",
      "A = np.zeros((nnuc), dtype=np.int32)\n",
      "\n",
      "A[ip] = 1\n",
      "A[ihe4] = 4\n",
      "A[ic12] = 12\n",
      "A[ic13] = 13\n",
      "A[in13] = 13\n",
      "A[in14] = 14\n",
      "A[in15] = 15\n",
      "A[io14] = 14\n",
      "A[io15] = 15\n",
      "\n",
      "def p_c12__n13(tf):\n",
      "    # c12 + p --> n13\n",
      "    rate = 0.0\n",
      "    \n",
      "    # ls09n\n",
      "    rate += np.exp(  17.1482 + -13.692*tf.T913i + -0.230881*tf.T913\n",
      "                  + 4.44362*tf.T9 + -3.15898*tf.T953 + -0.666667*tf.lnT9)\n",
      "    # ls09r\n",
      "    rate += np.exp(  17.5428 + -3.77849*tf.T9i + -5.10735*tf.T913i + -2.24111*tf.T913\n",
      "                  + 0.148883*tf.T9 + -1.5*tf.lnT9)\n",
      "    \n",
      "    return rate\n",
      "\n",
      "def p_c13__n14(tf):\n",
      "    # c13 + p --> n14\n",
      "    rate = 0.0\n",
      "    \n",
      "    # nacrn\n",
      "    rate += np.exp(  18.5155 + -13.72*tf.T913i + -0.450018*tf.T913\n",
      "                  + 3.70823*tf.T9 + -1.70545*tf.T953 + -0.666667*tf.lnT9)\n",
      "    # nacrr\n",
      "    rate += np.exp(  13.9637 + -5.78147*tf.T9i + -0.196703*tf.T913\n",
      "                  + 0.142126*tf.T9 + -0.0238912*tf.T953 + -1.5*tf.lnT9)\n",
      "    # nacrr\n",
      "    rate += np.exp(  15.1825 + -13.5543*tf.T9i\n",
      "                  + -1.5*tf.lnT9)\n",
      "    \n",
      "    return rate\n",
      "\n",
      "def n13__c13(tf):\n",
      "    # n13 --> c13\n",
      "    rate = 0.0\n",
      "    \n",
      "    # wc12w\n",
      "    rate += np.exp(  -6.7601)\n",
      "    \n",
      "    return rate\n",
      "\n",
      "def p_n13__o14(tf):\n",
      "    # n13 + p --> o14\n",
      "    rate = 0.0\n",
      "    \n",
      "    # lg06n\n",
      "    rate += np.exp(  18.1356 + -15.1676*tf.T913i + 0.0955166*tf.T913\n",
      "                  + 3.0659*tf.T9 + -0.507339*tf.T953 + -0.666667*tf.lnT9)\n",
      "    # lg06r\n",
      "    rate += np.exp(  10.9971 + -6.12602*tf.T9i + 1.57122*tf.T913i\n",
      "                  + -1.5*tf.lnT9)\n",
      "    \n",
      "    return rate\n",
      "\n",
      "def p_n14__o15(tf):\n",
      "    # n14 + p --> o15\n",
      "    rate = 0.0\n",
      "    \n",
      "    # im05n\n",
      "    rate += np.exp(  17.01 + -15.193*tf.T913i + -0.161954*tf.T913\n",
      "                  + -7.52123*tf.T9 + -0.987565*tf.T953 + -0.666667*tf.lnT9)\n",
      "    # im05r\n",
      "    rate += np.exp(  6.73578 + -4.891*tf.T9i\n",
      "                  + 0.0682*tf.lnT9)\n",
      "    # im05r\n",
      "    rate += np.exp(  7.65444 + -2.998*tf.T9i\n",
      "                  + -1.5*tf.lnT9)\n",
      "    # im05n\n",
      "    rate += np.exp(  20.1169 + -15.193*tf.T913i + -4.63975*tf.T913\n",
      "                  + 9.73458*tf.T9 + -9.55051*tf.T953 + 0.333333*tf.lnT9)\n",
      "    \n",
      "    return rate\n",
      "\n",
      "def p_n15__he4_c12(tf):\n",
      "    # n15 + p --> he4 + c12\n",
      "    rate = 0.0\n",
      "    \n",
      "    # nacrn\n",
      "    rate += np.exp(  27.4764 + -15.253*tf.T913i + 1.59318*tf.T913\n",
      "                  + 2.4479*tf.T9 + -2.19708*tf.T953 + -0.666667*tf.lnT9)\n",
      "    # nacrr\n",
      "    rate += np.exp(  -6.57522 + -1.1638*tf.T9i + 22.7105*tf.T913\n",
      "                  + -2.90707*tf.T9 + 0.205754*tf.T953 + -1.5*tf.lnT9)\n",
      "    # nacrr\n",
      "    rate += np.exp(  20.8972 + -7.406*tf.T9i\n",
      "                  + -1.5*tf.lnT9)\n",
      "    # nacrr\n",
      "    rate += np.exp(  -4.87347 + -2.02117*tf.T9i + 30.8497*tf.T913\n",
      "                  + -8.50433*tf.T9 + -1.54426*tf.T953 + -1.5*tf.lnT9)\n",
      "    \n",
      "    return rate\n",
      "\n",
      "def o14__n14(tf):\n",
      "    # o14 --> n14\n",
      "    rate = 0.0\n",
      "    \n",
      "    # wc12w\n",
      "    rate += np.exp(  -4.62354)\n",
      "    \n",
      "    return rate\n",
      "\n",
      "def o15__n15(tf):\n",
      "    # o15 --> n15\n",
      "    rate = 0.0\n",
      "    \n",
      "    # wc12w\n",
      "    rate += np.exp(  -5.17053)\n",
      "    \n",
      "    return rate\n",
      "\n",
      "def rhs(t, Y, rho, T):\n",
      "\n",
      "    tf = Tfactors(T)\n",
      "\n",
      "    lambda_p_c12__n13 = p_c12__n13(tf)\n",
      "    lambda_p_c13__n14 = p_c13__n14(tf)\n",
      "    lambda_n13__c13 = n13__c13(tf)\n",
      "    lambda_p_n13__o14 = p_n13__o14(tf)\n",
      "    lambda_p_n14__o15 = p_n14__o15(tf)\n",
      "    lambda_p_n15__he4_c12 = p_n15__he4_c12(tf)\n",
      "    lambda_o14__n14 = o14__n14(tf)\n",
      "    lambda_o15__n15 = o15__n15(tf)\n",
      "\n",
      "    dYdt = np.zeros((nnuc), dtype=np.float64)\n",
      "\n",
      "    dYdt[ip] = (\n",
      "       -rho*Y[ip]*Y[ic12]*lambda_p_c12__n13\n",
      "       -rho*Y[ip]*Y[ic13]*lambda_p_c13__n14\n",
      "       -rho*Y[ip]*Y[in13]*lambda_p_n13__o14\n",
      "       -rho*Y[ip]*Y[in14]*lambda_p_n14__o15\n",
      "       -rho*Y[ip]*Y[in15]*lambda_p_n15__he4_c12\n",
      "       )\n",
      "\n",
      "    dYdt[ihe4] = (\n",
      "       +rho*Y[ip]*Y[in15]*lambda_p_n15__he4_c12\n",
      "       )\n",
      "\n",
      "    dYdt[ic12] = (\n",
      "       -rho*Y[ip]*Y[ic12]*lambda_p_c12__n13\n",
      "       +rho*Y[ip]*Y[in15]*lambda_p_n15__he4_c12\n",
      "       )\n",
      "\n",
      "    dYdt[ic13] = (\n",
      "       -rho*Y[ip]*Y[ic13]*lambda_p_c13__n14\n",
      "       +Y[in13]*lambda_n13__c13\n",
      "       )\n",
      "\n",
      "    dYdt[in13] = (\n",
      "       -Y[in13]*lambda_n13__c13\n",
      "       -rho*Y[ip]*Y[in13]*lambda_p_n13__o14\n",
      "       +rho*Y[ip]*Y[ic12]*lambda_p_c12__n13\n",
      "       )\n",
      "\n",
      "    dYdt[in14] = (\n",
      "       -rho*Y[ip]*Y[in14]*lambda_p_n14__o15\n",
      "       +rho*Y[ip]*Y[ic13]*lambda_p_c13__n14\n",
      "       +Y[io14]*lambda_o14__n14\n",
      "       )\n",
      "\n",
      "    dYdt[in15] = (\n",
      "       -rho*Y[ip]*Y[in15]*lambda_p_n15__he4_c12\n",
      "       +Y[io15]*lambda_o15__n15\n",
      "       )\n",
      "\n",
      "    dYdt[io14] = (\n",
      "       -Y[io14]*lambda_o14__n14\n",
      "       +rho*Y[ip]*Y[in13]*lambda_p_n13__o14\n",
      "       )\n",
      "\n",
      "    dYdt[io15] = (\n",
      "       -Y[io15]*lambda_o15__n15\n",
      "       +rho*Y[ip]*Y[in14]*lambda_p_n14__o15\n",
      "       )\n",
      "\n",
      "    return dYdt\n"
     ]
    }
   ],
   "source": [
    "pynet.write_network()"
   ]
  },
  {
   "cell_type": "code",
   "execution_count": null,
   "metadata": {
    "collapsed": true
   },
   "outputs": [],
   "source": []
  }
 ],
 "metadata": {
  "kernelspec": {
   "display_name": "Python 3",
   "language": "python",
   "name": "python3"
  },
  "language_info": {
   "codemirror_mode": {
    "name": "ipython",
    "version": 3
   },
   "file_extension": ".py",
   "mimetype": "text/x-python",
   "name": "python",
   "nbconvert_exporter": "python",
   "pygments_lexer": "ipython3",
   "version": "3.6.2"
  }
 },
 "nbformat": 4,
 "nbformat_minor": 1
}
