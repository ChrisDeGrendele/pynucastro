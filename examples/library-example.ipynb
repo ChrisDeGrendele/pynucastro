{
 "cells": [
  {
   "cell_type": "markdown",
   "metadata": {},
   "source": [
    "# Using Reaclib Library files with pynucastro"
   ]
  },
  {
   "cell_type": "code",
   "execution_count": null,
   "metadata": {},
   "outputs": [],
   "source": [
    "import pynucastro as pyrl"
   ]
  },
  {
   "cell_type": "code",
   "execution_count": null,
   "metadata": {
    "collapsed": true
   },
   "outputs": [],
   "source": [
    "library_path = \"/home/eugene/codes/astro/pynucastro/pynucastro/library/20180201ReaclibV2.22\""
   ]
  },
  {
   "cell_type": "code",
   "execution_count": null,
   "metadata": {},
   "outputs": [],
   "source": [
    "library = pyrl.rates.Library(library_path)"
   ]
  },
  {
   "cell_type": "code",
   "execution_count": null,
   "metadata": {
    "collapsed": true
   },
   "outputs": [],
   "source": [
    "len(library._library_source_lines)"
   ]
  },
  {
   "cell_type": "code",
   "execution_count": null,
   "metadata": {
    "collapsed": true
   },
   "outputs": [],
   "source": [
    "len(library.get_rates())"
   ]
  },
  {
   "cell_type": "code",
   "execution_count": null,
   "metadata": {
    "collapsed": true
   },
   "outputs": [],
   "source": [
    "for r in library.get_rates():\n",
    "    print(r.original_source)\n",
    "    print('----------------------------')"
   ]
  },
  {
   "cell_type": "code",
   "execution_count": null,
   "metadata": {
    "collapsed": true
   },
   "outputs": [],
   "source": []
  }
 ],
 "metadata": {
  "kernelspec": {
   "display_name": "Python 3",
   "language": "python",
   "name": "python3"
  },
  "language_info": {
   "codemirror_mode": {
    "name": "ipython",
    "version": 3
   },
   "file_extension": ".py",
   "mimetype": "text/x-python",
   "name": "python",
   "nbconvert_exporter": "python",
   "pygments_lexer": "ipython3",
   "version": "3.6.3"
  },
  "widgets": {
   "application/vnd.jupyter.widget-state+json": {
    "state": {
     "2fe9d67c3cac4f6aac79faa6c9aa0c56": {
      "model_module": "jupyter-js-widgets",
      "model_module_version": "~2.1.4",
      "model_name": "LayoutModel",
      "state": {
       "_model_module_version": "~2.1.4",
       "_view_module_version": "~2.1.4"
      }
     },
     "43a477d5c79e4a91ae70627166d26191": {
      "model_module": "jupyter-js-widgets",
      "model_module_version": "~2.1.4",
      "model_name": "FloatSliderModel",
      "state": {
       "_model_module_version": "~2.1.4",
       "_view_module_version": "~2.1.4",
       "description": "logrho",
       "layout": "IPY_MODEL_c3f3493f0db8440a842e5c6b9e630953",
       "max": 6,
       "min": 2,
       "step": 0.1,
       "value": 4
      }
     },
     "4892dc3b91d940e1b09573fb23663c8a": {
      "model_module": "jupyter-js-widgets",
      "model_module_version": "~2.1.4",
      "model_name": "VBoxModel",
      "state": {
       "_dom_classes": [
        "widget-interact"
       ],
       "_model_module_version": "~2.1.4",
       "_view_module_version": "~2.1.4",
       "children": [
        "IPY_MODEL_43a477d5c79e4a91ae70627166d26191",
        "IPY_MODEL_a67854761e48472187dfbb4cfb254dcc",
        "IPY_MODEL_e08e0e2355ad440ca0b5e1ced2927b22"
       ],
       "layout": "IPY_MODEL_2fe9d67c3cac4f6aac79faa6c9aa0c56"
      }
     },
     "73ddffe7dcb5445bb74a7a0d0dee2daa": {
      "model_module": "jupyter-js-widgets",
      "model_module_version": "~2.1.4",
      "model_name": "LayoutModel",
      "state": {
       "_model_module_version": "~2.1.4",
       "_view_module_version": "~2.1.4"
      }
     },
     "a67854761e48472187dfbb4cfb254dcc": {
      "model_module": "jupyter-js-widgets",
      "model_module_version": "~2.1.4",
      "model_name": "FloatSliderModel",
      "state": {
       "_model_module_version": "~2.1.4",
       "_view_module_version": "~2.1.4",
       "description": "logT",
       "layout": "IPY_MODEL_73ddffe7dcb5445bb74a7a0d0dee2daa",
       "max": 9,
       "min": 7,
       "step": 0.1,
       "value": 8.2
      }
     },
     "c3f3493f0db8440a842e5c6b9e630953": {
      "model_module": "jupyter-js-widgets",
      "model_module_version": "~2.1.4",
      "model_name": "LayoutModel",
      "state": {
       "_model_module_version": "~2.1.4",
       "_view_module_version": "~2.1.4"
      }
     },
     "d49b507a255b46c29dcf284e532e0dd4": {
      "model_module": "jupyter-js-widgets",
      "model_module_version": "~2.1.4",
      "model_name": "LayoutModel",
      "state": {
       "_model_module_version": "~2.1.4",
       "_view_module_version": "~2.1.4"
      }
     },
     "e08e0e2355ad440ca0b5e1ced2927b22": {
      "model_module": "jupyter-js-widgets",
      "model_module_version": "~2.1.4",
      "model_name": "OutputModel",
      "state": {
       "_dom_classes": [],
       "_model_module": "jupyter-js-widgets",
       "_model_module_version": "~2.1.4",
       "_view_module": "jupyter-js-widgets",
       "_view_module_version": "~2.1.4",
       "layout": "IPY_MODEL_d49b507a255b46c29dcf284e532e0dd4",
       "msg_throttle": 1
      }
     }
    },
    "version_major": 1,
    "version_minor": 0
   }
  }
 },
 "nbformat": 4,
 "nbformat_minor": 2
}
