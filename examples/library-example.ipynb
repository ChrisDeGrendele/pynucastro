{
 "cells": [
  {
   "cell_type": "code",
   "execution_count": 1,
   "metadata": {
    "collapsed": true
   },
   "outputs": [],
   "source": [
    "import pynucastro as pyna"
   ]
  },
  {
   "cell_type": "code",
   "execution_count": 2,
   "metadata": {
    "collapsed": true
   },
   "outputs": [],
   "source": [
    "library_file = '/home/eugene/codes/astro/pynucastro/pynucastro/library/20180201ReaclibV2.22'"
   ]
  },
  {
   "cell_type": "code",
   "execution_count": 3,
   "metadata": {},
   "outputs": [],
   "source": [
    "library = pyna.rates.Library(library_file)"
   ]
  },
  {
   "cell_type": "code",
   "execution_count": 4,
   "metadata": {
    "collapsed": true
   },
   "outputs": [],
   "source": [
    "myfilter = pyna.rates.RateFilter(reactants=['c12'], exact=False)"
   ]
  },
  {
   "cell_type": "code",
   "execution_count": 5,
   "metadata": {},
   "outputs": [
    {
     "name": "stdout",
     "output_type": "stream",
     "text": [
      "o16 + c12 --> he4 + mg24_cf88_reaclib\n",
      "c12 + he4 --> o16_nac2_reaclib\n",
      "c12 --> p + b11_nw00_reaclib_reverse\n",
      "c12 + n --> he4 + be9_cf88_reaclib_reverse\n",
      "ne20 + c12 --> he4 + si28_rolf_reaclib\n",
      "c12 + n --> c13_ka02_reaclib\n",
      "c12 + c12 --> he4 + ne20_cf88_reaclib\n",
      "c12 --> he4 + he4 + he4_fy05_reaclib_reverse\n",
      "c12 + c12 --> p + na23_cf88_reaclib\n",
      "c12 + c12 --> n + mg23_cf88_reaclib_reverse\n",
      "c12 + n --> p + b12_wag_reaclib_reverse\n",
      "ne20 + c12 --> n + s31_rolf_reaclib\n",
      "c12 + he4 --> p + n15_nacr_reaclib_reverse\n",
      "o16 + c12 --> p + al27_cf88_reaclib\n",
      "o16 + c12 --> n + si27_cf88_reaclib_reverse\n",
      "c12 + p --> n13_ls09_reaclib\n",
      "c12 --> n + c11_bb92_reaclib_reverse\n",
      "ne20 + c12 --> p + p31_rolf_reaclib\n",
      "c12 + he4 --> n + o15_cf88_reaclib_reverse\n"
     ]
    }
   ],
   "source": [
    "mylibrary = library.filter(myfilter)\n",
    "print(mylibrary.get_rates())"
   ]
  },
  {
   "cell_type": "code",
   "execution_count": 7,
   "metadata": {},
   "outputs": [
    {
     "name": "stdout",
     "output_type": "stream",
     "text": [
      "c12 + c12 --> he4 + ne20_cf88_reaclib\n",
      "c12 + c12 --> p + na23_cf88_reaclib\n",
      "c12 + c12 --> n + mg23_cf88_reaclib_reverse\n"
     ]
    }
   ],
   "source": [
    "myfilter = pyna.rates.RateFilter(reactants=['c12', 'c12'], exact=True)\n",
    "myrates = [r for r in library.filter(myfilter)]\n",
    "ids = [r.get_rate_id() for r in myrates]\n",
    "for i in ids:\n",
    "    print(i)"
   ]
  },
  {
   "cell_type": "code",
   "execution_count": 23,
   "metadata": {
    "collapsed": true
   },
   "outputs": [],
   "source": [
    "myrates = []\n",
    "capture = pyna.rates.Nucleus('he4')\n",
    "seed = pyna.rates.Nucleus('c12')\n",
    "while True:\n",
    "    ac_filter = pyna.rates.RateFilter(reactants=[capture, seed], max_products=1)\n",
    "    ac_reactions = [r for r in library.filter(ac_filter)]\n",
    "    r = ac_reactions[0]\n",
    "    myrates.append(r)\n",
    "    heavy = r.products[0]\n",
    "    ac_filter_inv = pyna.rates.RateFilter(products=[capture, seed], reactants=[heavy])\n",
    "    ac_reactions_inv = [r for r in library.filter(ac_filter_inv)]\n",
    "    rinv = ac_reactions_inv[0]\n",
    "    myrates.append(rinv)\n",
    "    if heavy.A == 56:\n",
    "        break\n",
    "    else:\n",
    "        seed = heavy"
   ]
  },
  {
   "cell_type": "code",
   "execution_count": 25,
   "metadata": {},
   "outputs": [
    {
     "name": "stdout",
     "output_type": "stream",
     "text": [
      "c12 + he4 --> o16_nac2_reaclib\n",
      "o16 --> he4 + c12_nac2_reaclib_reverse\n",
      "o16 + he4 --> ne20_co10_reaclib\n",
      "ne20 --> he4 + o16_co10_reaclib_reverse\n",
      "ne20 + he4 --> mg24_il10_reaclib\n",
      "mg24 --> he4 + ne20_il10_reaclib_reverse\n",
      "mg24 + he4 --> si28_st08_reaclib\n",
      "si28 --> he4 + mg24_st08_reaclib_reverse\n",
      "si28 + he4 --> s32_ths8_reaclib\n",
      "s32 --> he4 + si28_ths8_reaclib_reverse\n",
      "s32 + he4 --> ar36_ths8_reaclib\n",
      "ar36 --> he4 + s32_ths8_reaclib_reverse\n",
      "ar36 + he4 --> ca40_ths8_reaclib\n",
      "ca40 --> he4 + ar36_ths8_reaclib_reverse\n",
      "ca40 + he4 --> ti44_chw0_reaclib\n",
      "ti44 --> he4 + ca40_chw0_reaclib_reverse\n",
      "ti44 + he4 --> cr48_ths8_reaclib\n",
      "cr48 --> he4 + ti44_ths8_reaclib_reverse\n",
      "cr48 + he4 --> fe52_ths8_reaclib\n",
      "fe52 --> he4 + cr48_ths8_reaclib_reverse\n",
      "fe52 + he4 --> ni56_ths8_reaclib\n",
      "ni56 --> he4 + fe52_ths8_reaclib_reverse\n"
     ]
    }
   ],
   "source": [
    "for r in myrates:\n",
    "    print(r.get_rate_id())"
   ]
  },
  {
   "cell_type": "code",
   "execution_count": null,
   "metadata": {
    "collapsed": true
   },
   "outputs": [],
   "source": []
  }
 ],
 "metadata": {
  "kernelspec": {
   "display_name": "Python 3",
   "language": "python",
   "name": "python3"
  },
  "language_info": {
   "codemirror_mode": {
    "name": "ipython",
    "version": 3
   },
   "file_extension": ".py",
   "mimetype": "text/x-python",
   "name": "python",
   "nbconvert_exporter": "python",
   "pygments_lexer": "ipython3",
   "version": "3.6.3"
  }
 },
 "nbformat": 4,
 "nbformat_minor": 2
}
